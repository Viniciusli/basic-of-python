{
 "cells": [
  {
   "cell_type": "markdown",
   "id": "d29e22ff",
   "metadata": {},
   "source": [
    "### Programação Orientada a Objetos"
   ]
  },
  {
   "cell_type": "markdown",
   "id": "f082df9f",
   "metadata": {},
   "source": [
    "## Classes"
   ]
  },
  {
   "cell_type": "code",
   "execution_count": 1,
   "id": "e8511e04",
   "metadata": {},
   "outputs": [],
   "source": [
    "class Livro:\n",
    "    # __init__(self) vai iniciar cada objeto criado a partir desta classe\n",
    "    # self é uma referencia a cada atributo de um objeto criado a partir desta classe\n",
    "    def __init__(self):\n",
    "        # atributos dos objetos criados nesta classe\n",
    "        # o self indica que esses são atributos desse objeto\n",
    "        self.titulo = \"Meio rei\"\n",
    "        self.isbn = 998888\n",
    "        print(\"Construtor chamado para criar um objeto desta classe\")\n",
    "        \n",
    "        # métodos são funções que recebem como parâmetro atributos do objeto criado\n",
    "    def imprime(self):\n",
    "        print(\"Foi criado o livro %s e ISBN %d\" %(self.titulo, self.isbn))"
   ]
  },
  {
   "cell_type": "code",
   "execution_count": 2,
   "id": "04bebb3d",
   "metadata": {},
   "outputs": [
    {
     "name": "stdout",
     "output_type": "stream",
     "text": [
      "Construtor chamado para criar um objeto desta classe\n"
     ]
    }
   ],
   "source": [
    "# criando uma instancia da classe livro:\n",
    "livro1 = Livro()"
   ]
  },
  {
   "cell_type": "code",
   "execution_count": 3,
   "id": "d3015376",
   "metadata": {},
   "outputs": [
    {
     "data": {
      "text/plain": [
       "__main__.Livro"
      ]
     },
     "execution_count": 3,
     "metadata": {},
     "output_type": "execute_result"
    }
   ],
   "source": [
    "type(livro1)"
   ]
  },
  {
   "cell_type": "code",
   "execution_count": 4,
   "id": "8c983cb8",
   "metadata": {},
   "outputs": [
    {
     "data": {
      "text/plain": [
       "'Meio rei'"
      ]
     },
     "execution_count": 4,
     "metadata": {},
     "output_type": "execute_result"
    }
   ],
   "source": [
    "livro1.titulo"
   ]
  },
  {
   "cell_type": "code",
   "execution_count": 5,
   "id": "72496621",
   "metadata": {},
   "outputs": [
    {
     "data": {
      "text/plain": [
       "998888"
      ]
     },
     "execution_count": 5,
     "metadata": {},
     "output_type": "execute_result"
    }
   ],
   "source": [
    "livro1.isbn"
   ]
  },
  {
   "cell_type": "code",
   "execution_count": 7,
   "id": "35cc9b91",
   "metadata": {},
   "outputs": [
    {
     "name": "stdout",
     "output_type": "stream",
     "text": [
      "Foi criado o livro Meio rei e ISBN 998888\n"
     ]
    }
   ],
   "source": [
    "livro1.imprime()"
   ]
  },
  {
   "cell_type": "code",
   "execution_count": 8,
   "id": "4d1a5824",
   "metadata": {},
   "outputs": [],
   "source": [
    "# criando a classe Livro com parâmetros no método construtor\n",
    "class Livro:\n",
    "    def __init__(self, titulo, isbn):\n",
    "        self.titulo = titulo\n",
    "        self.isbn = isbn\n",
    "        print(\"Construtor chamado para criar um objeto desta classe\")\n",
    "        \n",
    "    def imprime(self, titulo, isbn):\n",
    "        print(\"este é o livro %s e ISBN %d\" %(titulo, isbn))"
   ]
  },
  {
   "cell_type": "code",
   "execution_count": 9,
   "id": "76e49108",
   "metadata": {},
   "outputs": [
    {
     "name": "stdout",
     "output_type": "stream",
     "text": [
      "Construtor chamado para criar um objeto desta classe\n"
     ]
    }
   ],
   "source": [
    "livro2 = Livro(\"O estrangeiro\", 88855567)"
   ]
  },
  {
   "cell_type": "code",
   "execution_count": 12,
   "id": "6a489901",
   "metadata": {},
   "outputs": [
    {
     "data": {
      "text/plain": [
       "'O estrangeiro'"
      ]
     },
     "execution_count": 12,
     "metadata": {},
     "output_type": "execute_result"
    }
   ],
   "source": [
    "livro2.titulo"
   ]
  },
  {
   "cell_type": "code",
   "execution_count": 13,
   "id": "39a4fa5b",
   "metadata": {},
   "outputs": [
    {
     "data": {
      "text/plain": [
       "88855567"
      ]
     },
     "execution_count": 13,
     "metadata": {},
     "output_type": "execute_result"
    }
   ],
   "source": [
    "livro2.isbn"
   ]
  },
  {
   "cell_type": "code",
   "execution_count": 15,
   "id": "3034be56",
   "metadata": {},
   "outputs": [],
   "source": [
    "class Cachorro:\n",
    "    def __init__(self, raca):\n",
    "        self.raca = raca"
   ]
  },
  {
   "cell_type": "code",
   "execution_count": 16,
   "id": "c481892a",
   "metadata": {},
   "outputs": [],
   "source": [
    "hex = Cachorro(raca=\"caramelo\")"
   ]
  },
  {
   "cell_type": "code",
   "execution_count": 17,
   "id": "abaa567b",
   "metadata": {},
   "outputs": [],
   "source": [
    "golias = Cachorro(raca=\"pitbull\")"
   ]
  },
  {
   "cell_type": "code",
   "execution_count": 21,
   "id": "98af21bb",
   "metadata": {},
   "outputs": [
    {
     "data": {
      "text/plain": [
       "'caramelo'"
      ]
     },
     "execution_count": 21,
     "metadata": {},
     "output_type": "execute_result"
    }
   ],
   "source": [
    "hex.raca"
   ]
  },
  {
   "cell_type": "code",
   "execution_count": 22,
   "id": "df038924",
   "metadata": {},
   "outputs": [
    {
     "data": {
      "text/plain": [
       "'pitbull'"
      ]
     },
     "execution_count": 22,
     "metadata": {},
     "output_type": "execute_result"
    }
   ],
   "source": [
    "golias.raca"
   ]
  },
  {
   "cell_type": "markdown",
   "id": "783f91b0",
   "metadata": {},
   "source": [
    "### Objetos"
   ]
  },
  {
   "cell_type": "code",
   "execution_count": 24,
   "id": "c6d7d438",
   "metadata": {},
   "outputs": [],
   "source": [
    "class Estudantes:\n",
    "    def __init__(self, nome, idade, nota):\n",
    "        self.nome = nome\n",
    "        self.idade = idade\n",
    "        self.nota = nota"
   ]
  },
  {
   "cell_type": "code",
   "execution_count": 26,
   "id": "427d9936",
   "metadata": {},
   "outputs": [],
   "source": [
    "estudante1 = Estudantes(\"vinicius\", 18, 8.5)"
   ]
  },
  {
   "cell_type": "code",
   "execution_count": 27,
   "id": "e7c541e6",
   "metadata": {},
   "outputs": [
    {
     "data": {
      "text/plain": [
       "'vinicius'"
      ]
     },
     "execution_count": 27,
     "metadata": {},
     "output_type": "execute_result"
    }
   ],
   "source": [
    "estudante1.nome"
   ]
  },
  {
   "cell_type": "code",
   "execution_count": 28,
   "id": "ad6d349d",
   "metadata": {},
   "outputs": [
    {
     "data": {
      "text/plain": [
       "18"
      ]
     },
     "execution_count": 28,
     "metadata": {},
     "output_type": "execute_result"
    }
   ],
   "source": [
    "estudante1.idade"
   ]
  },
  {
   "cell_type": "code",
   "execution_count": 29,
   "id": "b6ee0097",
   "metadata": {},
   "outputs": [
    {
     "data": {
      "text/plain": [
       "8.5"
      ]
     },
     "execution_count": 29,
     "metadata": {},
     "output_type": "execute_result"
    }
   ],
   "source": [
    "estudante1.nota"
   ]
  },
  {
   "cell_type": "code",
   "execution_count": 31,
   "id": "290ce66f",
   "metadata": {},
   "outputs": [],
   "source": [
    "class Funcionarios:\n",
    "    def __init__(self, nome, salario):\n",
    "        self.nome = nome\n",
    "        self.salario = salario\n",
    "    def list_func(self):\n",
    "        print(\"Nome do funcionário: %s\\nSalário: R$%d\" %(self.nome, self.salario))"
   ]
  },
  {
   "cell_type": "code",
   "execution_count": 32,
   "id": "443df826",
   "metadata": {},
   "outputs": [],
   "source": [
    "func1 = Funcionarios(\"André\", 20000)"
   ]
  },
  {
   "cell_type": "code",
   "execution_count": 33,
   "id": "8789c1de",
   "metadata": {},
   "outputs": [
    {
     "name": "stdout",
     "output_type": "stream",
     "text": [
      "Nome do funcionário: André\n",
      "Salário: R$20000\n"
     ]
    }
   ],
   "source": [
    "func1.list_func()"
   ]
  },
  {
   "cell_type": "code",
   "execution_count": 34,
   "id": "1460b194",
   "metadata": {},
   "outputs": [
    {
     "data": {
      "text/plain": [
       "True"
      ]
     },
     "execution_count": 34,
     "metadata": {},
     "output_type": "execute_result"
    }
   ],
   "source": [
    "hasattr(func1, \"nome\")"
   ]
  },
  {
   "cell_type": "code",
   "execution_count": 35,
   "id": "0b79da87",
   "metadata": {},
   "outputs": [
    {
     "data": {
      "text/plain": [
       "True"
      ]
     },
     "execution_count": 35,
     "metadata": {},
     "output_type": "execute_result"
    }
   ],
   "source": [
    "hasattr(func1, \"salario\")"
   ]
  },
  {
   "cell_type": "code",
   "execution_count": 36,
   "id": "16cd7942",
   "metadata": {},
   "outputs": [
    {
     "data": {
      "text/plain": [
       "20000"
      ]
     },
     "execution_count": 36,
     "metadata": {},
     "output_type": "execute_result"
    }
   ],
   "source": [
    "getattr(func1, \"salario\")"
   ]
  },
  {
   "cell_type": "code",
   "execution_count": 37,
   "id": "41130229",
   "metadata": {},
   "outputs": [],
   "source": [
    "setattr(func1, \"salario\", 4500)"
   ]
  },
  {
   "cell_type": "code",
   "execution_count": 38,
   "id": "501b348c",
   "metadata": {},
   "outputs": [
    {
     "data": {
      "text/plain": [
       "4500"
      ]
     },
     "execution_count": 38,
     "metadata": {},
     "output_type": "execute_result"
    }
   ],
   "source": [
    "getattr(func1, \"salario\")"
   ]
  },
  {
   "cell_type": "code",
   "execution_count": 39,
   "id": "9382dc44",
   "metadata": {},
   "outputs": [],
   "source": [
    "delattr(func1, \"salario\")"
   ]
  },
  {
   "cell_type": "code",
   "execution_count": 40,
   "id": "c222d6cd",
   "metadata": {},
   "outputs": [
    {
     "data": {
      "text/plain": [
       "False"
      ]
     },
     "execution_count": 40,
     "metadata": {},
     "output_type": "execute_result"
    }
   ],
   "source": [
    "hasattr(func1, \"salario\")"
   ]
  },
  {
   "cell_type": "markdown",
   "id": "1a6a4fcb",
   "metadata": {},
   "source": [
    "### Métodos"
   ]
  },
  {
   "cell_type": "code",
   "execution_count": 51,
   "id": "d587e4cc",
   "metadata": {},
   "outputs": [],
   "source": [
    "class Circulo:\n",
    "    # constantes são definidas antes do __init__\n",
    "    Pi = 3.14\n",
    "    \n",
    "    # tu podes passar uma valor defaut para o parâmetro raio\n",
    "    def __init__(self, raio = 5):\n",
    "        self.raio = raio\n",
    "    \n",
    "    def area(self):\n",
    "        return (self.raio * self.raio) * Circulo.Pi\n",
    "    \n",
    "    def setRaio(self, novo_raio):\n",
    "        self.raio = novo_raio\n",
    "        \n",
    "    def getRaio(self):\n",
    "        return self.raio"
   ]
  },
  {
   "cell_type": "code",
   "execution_count": 54,
   "id": "72bb019c",
   "metadata": {},
   "outputs": [],
   "source": [
    "circ1 = Circulo()"
   ]
  },
  {
   "cell_type": "code",
   "execution_count": 55,
   "id": "971f4217",
   "metadata": {},
   "outputs": [
    {
     "data": {
      "text/plain": [
       "5"
      ]
     },
     "execution_count": 55,
     "metadata": {},
     "output_type": "execute_result"
    }
   ],
   "source": [
    "circ1.getRaio()"
   ]
  },
  {
   "cell_type": "code",
   "execution_count": 56,
   "id": "0ea89bc5",
   "metadata": {},
   "outputs": [],
   "source": [
    "circ1.setRaio(10)"
   ]
  },
  {
   "cell_type": "code",
   "execution_count": 57,
   "id": "5bbb619d",
   "metadata": {},
   "outputs": [
    {
     "data": {
      "text/plain": [
       "10"
      ]
     },
     "execution_count": 57,
     "metadata": {},
     "output_type": "execute_result"
    }
   ],
   "source": [
    "circ1.getRaio()"
   ]
  },
  {
   "cell_type": "code",
   "execution_count": 58,
   "id": "54ffa6e7",
   "metadata": {},
   "outputs": [
    {
     "data": {
      "text/plain": [
       "314.0"
      ]
     },
     "execution_count": 58,
     "metadata": {},
     "output_type": "execute_result"
    }
   ],
   "source": [
    "circ1.area()"
   ]
  },
  {
   "cell_type": "code",
   "execution_count": 60,
   "id": "cc7cf18a",
   "metadata": {},
   "outputs": [
    {
     "name": "stdout",
     "output_type": "stream",
     "text": [
      "O raio é: 10.00\n"
     ]
    }
   ],
   "source": [
    "print(\"O raio é: %.2f\" %circ1.getRaio())"
   ]
  },
  {
   "cell_type": "code",
   "execution_count": 61,
   "id": "c05054db",
   "metadata": {},
   "outputs": [
    {
     "name": "stdout",
     "output_type": "stream",
     "text": [
      "Área é: 314.00\n"
     ]
    }
   ],
   "source": [
    "print(\"Área é: %.2f\" %circ1.area())"
   ]
  },
  {
   "cell_type": "markdown",
   "id": "aefc0565",
   "metadata": {},
   "source": [
    "### Herança"
   ]
  },
  {
   "cell_type": "code",
   "execution_count": 62,
   "id": "3e1683dc",
   "metadata": {},
   "outputs": [],
   "source": [
    "class Animal:\n",
    "    def __init__(self):\n",
    "        print(\"Animal criado\")\n",
    "    \n",
    "    def identif(self):\n",
    "        print(\"Animal\")\n",
    "        \n",
    "    def comer(self):\n",
    "        print(\"Comendo\")"
   ]
  },
  {
   "cell_type": "code",
   "execution_count": 69,
   "id": "13681019",
   "metadata": {},
   "outputs": [],
   "source": [
    "class Cachorro(Animal):\n",
    "    def __init__(self):\n",
    "        Animal.__init__(self)\n",
    "        Animal.identif = \"Cachorro\"\n",
    "        \n",
    "    def latir(self):\n",
    "        print(\"au au\")"
   ]
  },
  {
   "cell_type": "code",
   "execution_count": 70,
   "id": "87606f82",
   "metadata": {},
   "outputs": [
    {
     "name": "stdout",
     "output_type": "stream",
     "text": [
      "Animal criado\n"
     ]
    }
   ],
   "source": [
    "rex = Cachorro()"
   ]
  },
  {
   "cell_type": "code",
   "execution_count": 71,
   "id": "51d8cae6",
   "metadata": {},
   "outputs": [
    {
     "name": "stdout",
     "output_type": "stream",
     "text": [
      "Cachorro\n"
     ]
    }
   ],
   "source": [
    "print(rex.identif)"
   ]
  },
  {
   "cell_type": "code",
   "execution_count": 72,
   "id": "9cc8cac5",
   "metadata": {},
   "outputs": [
    {
     "name": "stdout",
     "output_type": "stream",
     "text": [
      "Comendo\n"
     ]
    }
   ],
   "source": [
    "rex.comer()"
   ]
  },
  {
   "cell_type": "code",
   "execution_count": 73,
   "id": "89e0cc5e",
   "metadata": {},
   "outputs": [
    {
     "name": "stdout",
     "output_type": "stream",
     "text": [
      "au au\n"
     ]
    }
   ],
   "source": [
    "rex.latir()"
   ]
  },
  {
   "cell_type": "markdown",
   "id": "8affe8de",
   "metadata": {},
   "source": [
    "### Métodos especiais"
   ]
  },
  {
   "cell_type": "markdown",
   "id": "9d24a4bd",
   "metadata": {},
   "source": [
    "#### Exitem muitos métodos especiais que podem ser encontrados aanlizando a documentação do python"
   ]
  },
  {
   "cell_type": "code",
   "execution_count": 3,
   "id": "8021607c",
   "metadata": {},
   "outputs": [],
   "source": [
    "class Livro:\n",
    "    def __init__(self, titulo, autor, paginas):\n",
    "        print(\"livro criado\")\n",
    "        self.titulo = titulo\n",
    "        self.autor = autor\n",
    "        self.paginas = paginas\n",
    "        \n",
    "    def __str__(self):\n",
    "        return \"Título: %s\\nAutor: %s\\nPáginas: %d\" %(self.titulo, self.autor, self.paginas)\n",
    "    \n",
    "    def __len__(self):\n",
    "        return self.paginas"
   ]
  },
  {
   "cell_type": "code",
   "execution_count": 4,
   "id": "dd30789b",
   "metadata": {},
   "outputs": [
    {
     "name": "stdout",
     "output_type": "stream",
     "text": [
      "livro criado\n"
     ]
    }
   ],
   "source": [
    "livro1 = Livro(\"Os Lusíadas\", \"Luiz de Camões\", 8816)"
   ]
  },
  {
   "cell_type": "code",
   "execution_count": 5,
   "id": "90cf40ee",
   "metadata": {},
   "outputs": [
    {
     "data": {
      "text/plain": [
       "'Título: Os Lusíadas\\nAutor: Luiz de Camões\\nPáginas: 8816'"
      ]
     },
     "execution_count": 5,
     "metadata": {},
     "output_type": "execute_result"
    }
   ],
   "source": [
    "str(livro1)"
   ]
  },
  {
   "cell_type": "code",
   "execution_count": 6,
   "id": "8b4bbe5b",
   "metadata": {},
   "outputs": [
    {
     "name": "stdout",
     "output_type": "stream",
     "text": [
      "Título: Os Lusíadas\n",
      "Autor: Luiz de Camões\n",
      "Páginas: 8816\n"
     ]
    }
   ],
   "source": [
    "print(livro1)"
   ]
  },
  {
   "cell_type": "code",
   "execution_count": 7,
   "id": "3d2c7860",
   "metadata": {},
   "outputs": [
    {
     "data": {
      "text/plain": [
       "8816"
      ]
     },
     "execution_count": 7,
     "metadata": {},
     "output_type": "execute_result"
    }
   ],
   "source": [
    "len(livro1)"
   ]
  },
  {
   "cell_type": "code",
   "execution_count": null,
   "id": "01ceabac",
   "metadata": {},
   "outputs": [],
   "source": []
  }
 ],
 "metadata": {
  "kernelspec": {
   "display_name": "Python 3",
   "language": "python",
   "name": "python3"
  },
  "language_info": {
   "codemirror_mode": {
    "name": "ipython",
    "version": 3
   },
   "file_extension": ".py",
   "mimetype": "text/x-python",
   "name": "python",
   "nbconvert_exporter": "python",
   "pygments_lexer": "ipython3",
   "version": "3.8.8"
  }
 },
 "nbformat": 4,
 "nbformat_minor": 5
}
