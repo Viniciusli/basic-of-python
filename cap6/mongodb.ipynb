{
 "cells": [
  {
   "cell_type": "code",
   "execution_count": 1,
   "id": "dcec773e",
   "metadata": {},
   "outputs": [
    {
     "name": "stdout",
     "output_type": "stream",
     "text": [
      "Collecting pymongo\n",
      "  Downloading pymongo-3.12.0-cp38-cp38-manylinux_2_17_x86_64.manylinux2014_x86_64.whl (545 kB)\n",
      "\u001b[K     |████████████████████████████████| 545 kB 677 kB/s eta 0:00:01\n",
      "\u001b[?25hInstalling collected packages: pymongo\n",
      "Successfully installed pymongo-3.12.0\n"
     ]
    }
   ],
   "source": [
    "!pip install pymongo"
   ]
  },
  {
   "cell_type": "code",
   "execution_count": 1,
   "id": "3746f1b9",
   "metadata": {},
   "outputs": [],
   "source": [
    "from pymongo import MongoClient"
   ]
  },
  {
   "cell_type": "code",
   "execution_count": 2,
   "id": "916f5260",
   "metadata": {},
   "outputs": [],
   "source": [
    "con = MongoClient('localhost', 27017)"
   ]
  },
  {
   "cell_type": "code",
   "execution_count": 3,
   "id": "844687b0",
   "metadata": {},
   "outputs": [],
   "source": [
    "# Uma única instancia do Mongodb pode suportar diversos banco de dados\n",
    "db = con.cadastrodb"
   ]
  },
  {
   "cell_type": "code",
   "execution_count": 4,
   "id": "f590ae76",
   "metadata": {},
   "outputs": [
    {
     "data": {
      "text/plain": [
       "pymongo.database.Database"
      ]
     },
     "execution_count": 4,
     "metadata": {},
     "output_type": "execute_result"
    }
   ],
   "source": [
    "type(db)"
   ]
  },
  {
   "cell_type": "code",
   "execution_count": 5,
   "id": "adae2f88",
   "metadata": {},
   "outputs": [],
   "source": [
    "# colletion é um grupo de documentos armazenados no MongoDB\n",
    "collection = db.cadastrodb"
   ]
  },
  {
   "cell_type": "code",
   "execution_count": 6,
   "id": "012fce07",
   "metadata": {},
   "outputs": [
    {
     "data": {
      "text/plain": [
       "pymongo.collection.Collection"
      ]
     },
     "execution_count": 6,
     "metadata": {},
     "output_type": "execute_result"
    }
   ],
   "source": [
    "type(collection)"
   ]
  },
  {
   "cell_type": "code",
   "execution_count": 7,
   "id": "2d8aaca2",
   "metadata": {},
   "outputs": [],
   "source": [
    "import datetime"
   ]
  },
  {
   "cell_type": "markdown",
   "id": "1ac20ff0",
   "metadata": {},
   "source": [
    "### Dados no MongoDB são representados (e armazenados) usando documentos JSON (Java Script Object Notation). Com o PyMongo usamos dicionários para representar documentos."
   ]
  },
  {
   "cell_type": "code",
   "execution_count": 21,
   "id": "b8d8ee75",
   "metadata": {},
   "outputs": [],
   "source": [
    "post1 = {\n",
    "    \"código\": \"ID-9987725\",\n",
    "    \"prod_name\": \"Geladeira\",\n",
    "    \"marcas\": [\"brastemp\", \"consul\", \"eletrolux\"],\n",
    "    \"data_cadastro\": datetime.datetime.utcnow()\n",
    "}"
   ]
  },
  {
   "cell_type": "code",
   "execution_count": 22,
   "id": "4134dd17",
   "metadata": {},
   "outputs": [
    {
     "data": {
      "text/plain": [
       "dict"
      ]
     },
     "execution_count": 22,
     "metadata": {},
     "output_type": "execute_result"
    }
   ],
   "source": [
    "type(post1)"
   ]
  },
  {
   "cell_type": "code",
   "execution_count": 23,
   "id": "d989f476",
   "metadata": {},
   "outputs": [],
   "source": [
    "collection = db.posts"
   ]
  },
  {
   "cell_type": "code",
   "execution_count": 24,
   "id": "0dd29706",
   "metadata": {},
   "outputs": [],
   "source": [
    "post_id = collection.insert_one(post1)"
   ]
  },
  {
   "cell_type": "code",
   "execution_count": 25,
   "id": "901c4730",
   "metadata": {},
   "outputs": [
    {
     "data": {
      "text/plain": [
       "ObjectId('610eef342e512f41c6dfb87b')"
      ]
     },
     "execution_count": 25,
     "metadata": {},
     "output_type": "execute_result"
    }
   ],
   "source": [
    "post_id.inserted_id"
   ]
  },
  {
   "cell_type": "code",
   "execution_count": 26,
   "id": "14d73fac",
   "metadata": {},
   "outputs": [
    {
     "data": {
      "text/plain": [
       "<pymongo.results.InsertOneResult at 0x7f8a86ff2540>"
      ]
     },
     "execution_count": 26,
     "metadata": {},
     "output_type": "execute_result"
    }
   ],
   "source": [
    "post_id"
   ]
  },
  {
   "cell_type": "code",
   "execution_count": 28,
   "id": "eb61c8e2",
   "metadata": {},
   "outputs": [],
   "source": [
    "post2 = {\n",
    "    \"código\": \"ID-9987726\",\n",
    "    \"prod_name\": \"Televisão\",\n",
    "    \"marcas\": [\"samsung\", \"panasonic\", \"philco\"],\n",
    "    \"data_cadastro\": datetime.datetime.utcnow()\n",
    "}"
   ]
  },
  {
   "cell_type": "code",
   "execution_count": 29,
   "id": "bae81534",
   "metadata": {},
   "outputs": [],
   "source": [
    "collection = db.post"
   ]
  },
  {
   "cell_type": "code",
   "execution_count": 30,
   "id": "05200e86",
   "metadata": {},
   "outputs": [],
   "source": [
    "post_id = collection.insert_one(post2).inserted_id"
   ]
  },
  {
   "cell_type": "code",
   "execution_count": 31,
   "id": "9b01509c",
   "metadata": {},
   "outputs": [
    {
     "data": {
      "text/plain": [
       "ObjectId('610eef462e512f41c6dfb87c')"
      ]
     },
     "execution_count": 31,
     "metadata": {},
     "output_type": "execute_result"
    }
   ],
   "source": [
    "post_id"
   ]
  },
  {
   "cell_type": "code",
   "execution_count": 32,
   "id": "1564445e",
   "metadata": {},
   "outputs": [],
   "source": [
    "collection.find_one({\"prod_name\": \"televisão\"})\n",
    "# a função find retorna um cursor e podemos então navegar pelos dados"
   ]
  },
  {
   "cell_type": "code",
   "execution_count": 33,
   "id": "97bcb08d",
   "metadata": {},
   "outputs": [
    {
     "name": "stdout",
     "output_type": "stream",
     "text": [
      "{'_id': ObjectId('610eee6a2e512f41c6dfb87a'), 'código': 'ID-9987726', 'prod_name': 'Televisão', 'marcas': ['samsung', 'panasonic', 'philco'], 'data_cadastro': datetime.datetime(2021, 8, 7, 20, 33, 50, 79000)}\n",
      "{'_id': ObjectId('610eef462e512f41c6dfb87c'), 'código': 'ID-9987726', 'prod_name': 'Televisão', 'marcas': ['samsung', 'panasonic', 'philco'], 'data_cadastro': datetime.datetime(2021, 8, 7, 20, 38, 28, 807000)}\n"
     ]
    }
   ],
   "source": [
    "for post in collection.find():\n",
    "    print(post)"
   ]
  },
  {
   "cell_type": "code",
   "execution_count": 34,
   "id": "d4e226fc",
   "metadata": {},
   "outputs": [
    {
     "data": {
      "text/plain": [
       "'cadastrodb'"
      ]
     },
     "execution_count": 34,
     "metadata": {},
     "output_type": "execute_result"
    }
   ],
   "source": [
    "db.name"
   ]
  },
  {
   "cell_type": "code",
   "execution_count": 37,
   "id": "dd0cd229",
   "metadata": {},
   "outputs": [
    {
     "data": {
      "text/plain": [
       "['cadastrodb', 'post', 'posts']"
      ]
     },
     "execution_count": 37,
     "metadata": {},
     "output_type": "execute_result"
    }
   ],
   "source": [
    "db.list_collection_names()"
   ]
  },
  {
   "cell_type": "code",
   "execution_count": null,
   "id": "0dd4e2c2",
   "metadata": {},
   "outputs": [],
   "source": []
  }
 ],
 "metadata": {
  "kernelspec": {
   "display_name": "Python 3",
   "language": "python",
   "name": "python3"
  },
  "language_info": {
   "codemirror_mode": {
    "name": "ipython",
    "version": 3
   },
   "file_extension": ".py",
   "mimetype": "text/x-python",
   "name": "python",
   "nbconvert_exporter": "python",
   "pygments_lexer": "ipython3",
   "version": "3.8.10"
  }
 },
 "nbformat": 4,
 "nbformat_minor": 5
}
