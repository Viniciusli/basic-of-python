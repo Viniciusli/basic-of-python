{
 "cells": [
  {
   "cell_type": "markdown",
   "id": "64836489",
   "metadata": {},
   "source": [
    "# Notas sobre lambdas"
   ]
  },
  {
   "cell_type": "markdown",
   "id": "35b3019e",
   "metadata": {},
   "source": [
    "## Estrutura: lambda nome_variavel: variavel+função"
   ]
  },
  {
   "cell_type": "code",
   "execution_count": 10,
   "id": "73254212",
   "metadata": {},
   "outputs": [],
   "source": [
    "potencia = lambda num: num **2"
   ]
  },
  {
   "cell_type": "code",
   "execution_count": 4,
   "id": "4caa8a78",
   "metadata": {},
   "outputs": [
    {
     "data": {
      "text/plain": [
       "4"
      ]
     },
     "execution_count": 4,
     "metadata": {},
     "output_type": "execute_result"
    }
   ],
   "source": [
    "potencia(2)"
   ]
  },
  {
   "cell_type": "code",
   "execution_count": 6,
   "id": "6961df5a",
   "metadata": {},
   "outputs": [],
   "source": [
    "somaNum = lambda x, y: x+y"
   ]
  },
  {
   "cell_type": "code",
   "execution_count": 7,
   "id": "78b8b577",
   "metadata": {},
   "outputs": [
    {
     "data": {
      "text/plain": [
       "15"
      ]
     },
     "execution_count": 7,
     "metadata": {},
     "output_type": "execute_result"
    }
   ],
   "source": [
    "somaNum(10,5)"
   ]
  }
 ],
 "metadata": {
  "kernelspec": {
   "display_name": "Python 3",
   "language": "python",
   "name": "python3"
  },
  "language_info": {
   "codemirror_mode": {
    "name": "ipython",
    "version": 3
   },
   "file_extension": ".py",
   "mimetype": "text/x-python",
   "name": "python",
   "nbconvert_exporter": "python",
   "pygments_lexer": "ipython3",
   "version": "3.8.8"
  }
 },
 "nbformat": 4,
 "nbformat_minor": 5
}
