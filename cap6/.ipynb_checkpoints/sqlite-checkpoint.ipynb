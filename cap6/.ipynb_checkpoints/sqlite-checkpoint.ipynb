{
 "cells": [
  {
   "cell_type": "markdown",
   "id": "08b7da7a",
   "metadata": {},
   "source": [
    "# Banco de dados"
   ]
  },
  {
   "cell_type": "markdown",
   "id": "dc990315",
   "metadata": {},
   "source": [
    "## Banco de dados relacionais"
   ]
  },
  {
   "cell_type": "markdown",
   "id": "ac7e95a9",
   "metadata": {},
   "source": [
    "### SQLite com python"
   ]
  },
  {
   "cell_type": "markdown",
   "id": "efdd8363",
   "metadata": {},
   "source": [
    "### documentação sqlite: https://www.sqlite.org/index.html"
   ]
  },
  {
   "cell_type": "markdown",
   "id": "7e17a18d",
   "metadata": {},
   "source": [
    "### criando um arquivo, conexão, cursor e tabelas"
   ]
  },
  {
   "cell_type": "code",
   "execution_count": 1,
   "id": "139040db",
   "metadata": {},
   "outputs": [],
   "source": [
    "# removendo o arquivo com banco de dados SQLite (caso exita)\n",
    "# só por causa de não ser a primeira execução sua\n",
    "import os\n",
    "os.remove(\"escola.db\") if os.path.exists(\"escola.db\") else None"
   ]
  },
  {
   "cell_type": "code",
   "execution_count": 2,
   "id": "34dc9597",
   "metadata": {},
   "outputs": [],
   "source": [
    "import sqlite3"
   ]
  },
  {
   "cell_type": "code",
   "execution_count": 3,
   "id": "56a0cd55",
   "metadata": {},
   "outputs": [],
   "source": [
    "# cria uma conexão com o banco de dados\n",
    "# se o banco de dados não existir, ele é criado\n",
    "con = sqlite3.connect(\"escola.db\")"
   ]
  },
  {
   "cell_type": "code",
   "execution_count": 4,
   "id": "86f4e2c6",
   "metadata": {},
   "outputs": [
    {
     "data": {
      "text/plain": [
       "sqlite3.Connection"
      ]
     },
     "execution_count": 4,
     "metadata": {},
     "output_type": "execute_result"
    }
   ],
   "source": [
    "type(con)"
   ]
  },
  {
   "cell_type": "code",
   "execution_count": 5,
   "id": "b18aaa55",
   "metadata": {},
   "outputs": [],
   "source": [
    "# criando um cursor (um cursor permite percorrer todos os registros em um conjunto de dados)\n",
    "cur = con.cursor()"
   ]
  },
  {
   "cell_type": "code",
   "execution_count": 6,
   "id": "108a0cfd",
   "metadata": {},
   "outputs": [
    {
     "data": {
      "text/plain": [
       "sqlite3.Cursor"
      ]
     },
     "execution_count": 6,
     "metadata": {},
     "output_type": "execute_result"
    }
   ],
   "source": [
    "type(cur)"
   ]
  },
  {
   "cell_type": "code",
   "execution_count": 7,
   "id": "bf7c6f6b",
   "metadata": {},
   "outputs": [],
   "source": [
    "# criando uma tabela\n",
    "sql_create = 'create table pilotos'\\\n",
    "'(nome varchar(50) primary key, '\\\n",
    "'equipe varchar(50), '\\\n",
    "'pontos integer)'"
   ]
  },
  {
   "cell_type": "code",
   "execution_count": 8,
   "id": "5f7dc742",
   "metadata": {},
   "outputs": [
    {
     "data": {
      "text/plain": [
       "<sqlite3.Cursor at 0x7f31855dfb20>"
      ]
     },
     "execution_count": 8,
     "metadata": {},
     "output_type": "execute_result"
    }
   ],
   "source": [
    "cur.execute(sql_create)"
   ]
  },
  {
   "cell_type": "markdown",
   "id": "1fb91d70",
   "metadata": {},
   "source": [
    "### Lendo e inserindo novos dados"
   ]
  },
  {
   "cell_type": "code",
   "execution_count": 9,
   "id": "7541b8a3",
   "metadata": {},
   "outputs": [],
   "source": [
    "sql_insert = 'insert into pilotos values (?, ?, ?)'"
   ]
  },
  {
   "cell_type": "code",
   "execution_count": 10,
   "id": "c9bbffe4",
   "metadata": {},
   "outputs": [],
   "source": [
    "recset = [\n",
    "    ('Lewis Hamilton', 'Mercedes', 177),\n",
    "    ('Max Verstappen', 'RBR', 185),\n",
    "    ('Lando Norris', 'McLaren', 113)\n",
    "]"
   ]
  },
  {
   "cell_type": "code",
   "execution_count": 11,
   "id": "b588b479",
   "metadata": {},
   "outputs": [],
   "source": [
    "for rec in recset:\n",
    "    cur.execute(sql_insert, rec)"
   ]
  },
  {
   "cell_type": "code",
   "execution_count": 12,
   "id": "8d31d7ae",
   "metadata": {},
   "outputs": [],
   "source": [
    "con.commit()"
   ]
  },
  {
   "cell_type": "code",
   "execution_count": 13,
   "id": "652a285a",
   "metadata": {},
   "outputs": [],
   "source": [
    "sql_select = 'select * from pilotos'"
   ]
  },
  {
   "cell_type": "code",
   "execution_count": 14,
   "id": "ec97b30f",
   "metadata": {},
   "outputs": [],
   "source": [
    "cur.execute(sql_select)\n",
    "dados = cur.fetchall()"
   ]
  },
  {
   "cell_type": "code",
   "execution_count": 15,
   "id": "2d6e62af",
   "metadata": {},
   "outputs": [
    {
     "name": "stdout",
     "output_type": "stream",
     "text": [
      "Nome: Lewis Hamilton, Equipe: Mercedes, Pontos: 177\n",
      "\n",
      "Nome: Max Verstappen, Equipe: RBR, Pontos: 185\n",
      "\n",
      "Nome: Lando Norris, Equipe: McLaren, Pontos: 113\n",
      "\n"
     ]
    }
   ],
   "source": [
    "for linhas in dados:\n",
    "    print(\"Nome: %s, Equipe: %s, Pontos: %d\\n\" %linhas)"
   ]
  },
  {
   "cell_type": "code",
   "execution_count": 16,
   "id": "5c49d1ed",
   "metadata": {},
   "outputs": [],
   "source": [
    "recset = [\n",
    "    ('Valtteri Bottas', 'Mercedes', 108),\n",
    "    ('Sergio Perez', 'RBR', 104)\n",
    "]"
   ]
  },
  {
   "cell_type": "code",
   "execution_count": 17,
   "id": "0411a363",
   "metadata": {},
   "outputs": [],
   "source": [
    "for rec in recset:\n",
    "    cur.execute(sql_insert, rec)"
   ]
  },
  {
   "cell_type": "code",
   "execution_count": 18,
   "id": "b55adf49",
   "metadata": {},
   "outputs": [],
   "source": [
    "con.commit()"
   ]
  },
  {
   "cell_type": "code",
   "execution_count": 19,
   "id": "e982e09d",
   "metadata": {},
   "outputs": [],
   "source": [
    "cur.execute('select * from pilotos')\n",
    "recset = cur.fetchall()"
   ]
  },
  {
   "cell_type": "code",
   "execution_count": 20,
   "id": "fc511391",
   "metadata": {},
   "outputs": [
    {
     "name": "stdout",
     "output_type": "stream",
     "text": [
      "Nome: Lewis Hamilton, Equipe: Mercedes, Pontos: 177\n",
      "\n",
      "Nome: Max Verstappen, Equipe: RBR, Pontos: 185\n",
      "\n",
      "Nome: Lando Norris, Equipe: McLaren, Pontos: 113\n",
      "\n",
      "Nome: Valtteri Bottas, Equipe: Mercedes, Pontos: 108\n",
      "\n",
      "Nome: Sergio Perez, Equipe: RBR, Pontos: 104\n",
      "\n"
     ]
    }
   ],
   "source": [
    "for rec in recset:\n",
    "    print(\"Nome: %s, Equipe: %s, Pontos: %d\\n\" %rec)"
   ]
  },
  {
   "cell_type": "code",
   "execution_count": 21,
   "id": "48c79118",
   "metadata": {},
   "outputs": [],
   "source": [
    "con.close()"
   ]
  }
 ],
 "metadata": {
  "kernelspec": {
   "display_name": "Python 3",
   "language": "python",
   "name": "python3"
  },
  "language_info": {
   "codemirror_mode": {
    "name": "ipython",
    "version": 3
   },
   "file_extension": ".py",
   "mimetype": "text/x-python",
   "name": "python",
   "nbconvert_exporter": "python",
   "pygments_lexer": "ipython3",
   "version": "3.8.8"
  }
 },
 "nbformat": 4,
 "nbformat_minor": 5
}
