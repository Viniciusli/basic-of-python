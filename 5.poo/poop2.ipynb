{
 "cells": [
  {
   "cell_type": "markdown",
   "id": "9b1ff636",
   "metadata": {},
   "source": [
    "# Mais anotações sobre Poo"
   ]
  },
  {
   "cell_type": "code",
   "execution_count": 1,
   "id": "e45c57c6",
   "metadata": {},
   "outputs": [],
   "source": [
    "class Animal:\n",
    "    #atributos da classe\n",
    "    planeta = \"terra\"\n",
    "    \n",
    "    # métodos da classe\n",
    "    def nascer(self):\n",
    "        print(f\"Oi, eu nasci no planeta {self.planeta}\")\n",
    "        \n",
    "    def comer(self):\n",
    "        print(f\"Estou comendo...crunch crunch\")"
   ]
  },
  {
   "cell_type": "code",
   "execution_count": 2,
   "id": "5ece27a1",
   "metadata": {},
   "outputs": [],
   "source": [
    "class Mamifero(Animal):\n",
    "    \n",
    "    def comer(self):\n",
    "        print(\"Estou tomando leite\")"
   ]
  },
  {
   "cell_type": "code",
   "execution_count": 3,
   "id": "4a7d14fd",
   "metadata": {},
   "outputs": [],
   "source": [
    "class Oviparos(Animal):\n",
    "    \n",
    "    def nascer(self):\n",
    "        print(f\"Acabei de quebrar o ovo no planeta {self.planeta}\")"
   ]
  },
  {
   "cell_type": "code",
   "execution_count": 14,
   "id": "857a6636",
   "metadata": {},
   "outputs": [],
   "source": [
    "class Especial(Mamifero, Oviparos):\n",
    "    def nadar(self):\n",
    "        print(\"Estou nadando\")"
   ]
  },
  {
   "cell_type": "code",
   "execution_count": null,
   "id": "f4eb8b6c",
   "metadata": {},
   "outputs": [],
   "source": []
  },
  {
   "cell_type": "code",
   "execution_count": 7,
   "id": "d224c15e",
   "metadata": {},
   "outputs": [],
   "source": [
    "gato = Mamifero()"
   ]
  },
  {
   "cell_type": "code",
   "execution_count": 8,
   "id": "f528cf85",
   "metadata": {},
   "outputs": [
    {
     "name": "stdout",
     "output_type": "stream",
     "text": [
      "Oi, eu nasci no planeta terra\n"
     ]
    }
   ],
   "source": [
    "gato.nascer()"
   ]
  },
  {
   "cell_type": "code",
   "execution_count": 9,
   "id": "7eb4e921",
   "metadata": {},
   "outputs": [
    {
     "name": "stdout",
     "output_type": "stream",
     "text": [
      "Estou tomando leite\n"
     ]
    }
   ],
   "source": [
    "gato.comer()"
   ]
  },
  {
   "cell_type": "code",
   "execution_count": 10,
   "id": "19cd4694",
   "metadata": {},
   "outputs": [],
   "source": [
    "gato.planeta = \"mercurio\""
   ]
  },
  {
   "cell_type": "code",
   "execution_count": 11,
   "id": "4c6062ba",
   "metadata": {},
   "outputs": [
    {
     "data": {
      "text/plain": [
       "'mercurio'"
      ]
     },
     "execution_count": 11,
     "metadata": {},
     "output_type": "execute_result"
    }
   ],
   "source": [
    "gato.planeta"
   ]
  },
  {
   "cell_type": "code",
   "execution_count": 15,
   "id": "ae539bbe",
   "metadata": {},
   "outputs": [],
   "source": [
    "orni = Especial()"
   ]
  },
  {
   "cell_type": "code",
   "execution_count": 17,
   "id": "57cac024",
   "metadata": {},
   "outputs": [
    {
     "data": {
      "text/plain": [
       "[__main__.Especial,\n",
       " __main__.Mamifero,\n",
       " __main__.Oviparos,\n",
       " __main__.Animal,\n",
       " object]"
      ]
     },
     "execution_count": 17,
     "metadata": {},
     "output_type": "execute_result"
    }
   ],
   "source": [
    "# ordem de herança da classe Especial\n",
    "Especial.mro()"
   ]
  }
 ],
 "metadata": {
  "kernelspec": {
   "display_name": "Python 3",
   "language": "python",
   "name": "python3"
  },
  "language_info": {
   "codemirror_mode": {
    "name": "ipython",
    "version": 3
   },
   "file_extension": ".py",
   "mimetype": "text/x-python",
   "name": "python",
   "nbconvert_exporter": "python",
   "pygments_lexer": "ipython3",
   "version": "3.8.8"
  }
 },
 "nbformat": 4,
 "nbformat_minor": 5
}
