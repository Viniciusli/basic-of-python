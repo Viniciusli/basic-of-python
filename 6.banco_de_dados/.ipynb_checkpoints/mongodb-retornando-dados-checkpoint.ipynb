{
 "cells": [
  {
   "cell_type": "code",
   "execution_count": 1,
   "id": "f1f3dcac",
   "metadata": {},
   "outputs": [],
   "source": [
    "import pymongo"
   ]
  },
  {
   "cell_type": "code",
   "execution_count": 2,
   "id": "876d0648",
   "metadata": {},
   "outputs": [],
   "source": [
    "# criando uma conexão com mongodb\n",
    "client_con = pymongo.MongoClient()"
   ]
  },
  {
   "cell_type": "code",
   "execution_count": 4,
   "id": "0dfd5387",
   "metadata": {},
   "outputs": [
    {
     "data": {
      "text/plain": [
       "['admin', 'cadastrodb', 'config', 'local']"
      ]
     },
     "execution_count": 4,
     "metadata": {},
     "output_type": "execute_result"
    }
   ],
   "source": [
    "# listando os banco de dados disponíveis\n",
    "client_con.list_database_names()"
   ]
  },
  {
   "cell_type": "code",
   "execution_count": 5,
   "id": "67fd7516",
   "metadata": {},
   "outputs": [],
   "source": [
    "# definindo o objeto db\n",
    "db = client_con.cadastrodb"
   ]
  },
  {
   "cell_type": "code",
   "execution_count": 6,
   "id": "70c19de7",
   "metadata": {},
   "outputs": [
    {
     "data": {
      "text/plain": [
       "pymongo.database.Database"
      ]
     },
     "execution_count": 6,
     "metadata": {},
     "output_type": "execute_result"
    }
   ],
   "source": [
    "# listando as coleções disponíveis\n",
    "type(db)"
   ]
  },
  {
   "cell_type": "code",
   "execution_count": 7,
   "id": "c696e29b",
   "metadata": {},
   "outputs": [
    {
     "data": {
      "text/plain": [
       "Collection(Database(MongoClient(host=['localhost:27017'], document_class=dict, tz_aware=False, connect=True), 'cadastrodb'), 'mycollection')"
      ]
     },
     "execution_count": 7,
     "metadata": {},
     "output_type": "execute_result"
    }
   ],
   "source": [
    "db.create_collection(\"mycollection\")"
   ]
  },
  {
   "cell_type": "code",
   "execution_count": 8,
   "id": "b78918f5",
   "metadata": {},
   "outputs": [
    {
     "data": {
      "text/plain": [
       "['cadastrodb', 'post', 'mycollection', 'posts']"
      ]
     },
     "execution_count": 8,
     "metadata": {},
     "output_type": "execute_result"
    }
   ],
   "source": [
    "db.list_collection_names()"
   ]
  },
  {
   "cell_type": "code",
   "execution_count": 9,
   "id": "28a26eba",
   "metadata": {},
   "outputs": [
    {
     "data": {
      "text/plain": [
       "<pymongo.results.InsertOneResult at 0x7f1c5a1ac980>"
      ]
     },
     "execution_count": 9,
     "metadata": {},
     "output_type": "execute_result"
    }
   ],
   "source": [
    "db.mycollection.insert_one({\n",
    "    \"nome\": \"seu nome\",\n",
    "    \"idade\": \"sua idade\",\n",
    "    \"foo\": \"bar\"\n",
    "})"
   ]
  },
  {
   "cell_type": "code",
   "execution_count": 18,
   "id": "67c31ad0",
   "metadata": {},
   "outputs": [
    {
     "data": {
      "text/plain": [
       "{'_id': ObjectId('610ef90106df98d09f4a52b4'),\n",
       " 'nome': 'seu nome',\n",
       " 'idade': 'sua idade',\n",
       " 'foo': 'bar'}"
      ]
     },
     "execution_count": 18,
     "metadata": {},
     "output_type": "execute_result"
    }
   ],
   "source": [
    "db.mycollection.find_one()"
   ]
  },
  {
   "cell_type": "code",
   "execution_count": 19,
   "id": "ecd43ed3",
   "metadata": {},
   "outputs": [],
   "source": [
    "doc1 = {\n",
    "    \"fruta\": \"banana\"\n",
    "}"
   ]
  },
  {
   "cell_type": "code",
   "execution_count": 20,
   "id": "0fd66bcc",
   "metadata": {},
   "outputs": [
    {
     "data": {
      "text/plain": [
       "<pymongo.results.InsertOneResult at 0x7f1c5a201200>"
      ]
     },
     "execution_count": 20,
     "metadata": {},
     "output_type": "execute_result"
    }
   ],
   "source": [
    "db.mycollection.insert_one(doc1)"
   ]
  },
  {
   "cell_type": "code",
   "execution_count": 22,
   "id": "ff093fa9",
   "metadata": {},
   "outputs": [
    {
     "name": "stdout",
     "output_type": "stream",
     "text": [
      "{'_id': ObjectId('610ef90106df98d09f4a52b4'), 'nome': 'seu nome', 'idade': 'sua idade', 'foo': 'bar'}\n",
      "{'_id': ObjectId('610eff3606df98d09f4a52b5'), 'fruta': 'banana'}\n"
     ]
    }
   ],
   "source": [
    "for rec in db.mycollection.find():\n",
    "    print(rec)"
   ]
  },
  {
   "cell_type": "code",
   "execution_count": 29,
   "id": "1ba7bf27",
   "metadata": {},
   "outputs": [],
   "source": [
    "# conectando a uma coleção\n",
    "col = db['mycollection']"
   ]
  },
  {
   "cell_type": "code",
   "execution_count": 30,
   "id": "bfe7f6fa",
   "metadata": {},
   "outputs": [
    {
     "data": {
      "text/plain": [
       "pymongo.collection.Collection"
      ]
     },
     "execution_count": 30,
     "metadata": {},
     "output_type": "execute_result"
    }
   ],
   "source": [
    "type(col)"
   ]
  },
  {
   "cell_type": "code",
   "execution_count": 28,
   "id": "71744571",
   "metadata": {},
   "outputs": [
    {
     "data": {
      "text/plain": [
       "<pymongo.results.InsertOneResult at 0x7f1c59d30340>"
      ]
     },
     "execution_count": 28,
     "metadata": {},
     "output_type": "execute_result"
    }
   ],
   "source": [
    "doc2 = {\"mes\": \"agosto\"}\n",
    "db.mycollection.insert_one(doc2)"
   ]
  },
  {
   "cell_type": "code",
   "execution_count": 26,
   "id": "07b8a4a0",
   "metadata": {},
   "outputs": [
    {
     "name": "stdout",
     "output_type": "stream",
     "text": [
      "{'_id': ObjectId('610ef90106df98d09f4a52b4'), 'nome': 'seu nome', 'idade': 'sua idade', 'foo': 'bar'}\n",
      "{'_id': ObjectId('610eff3606df98d09f4a52b5'), 'fruta': 'banana'}\n",
      "{'_id': ObjectId('610f007506df98d09f4a52b6'), 'mes': 'agosto'}\n"
     ]
    }
   ],
   "source": [
    "for rec in db.mycollection.find():\n",
    "    print(rec)"
   ]
  },
  {
   "cell_type": "code",
   "execution_count": 35,
   "id": "f93ef354",
   "metadata": {},
   "outputs": [
    {
     "data": {
      "text/plain": [
       "4"
      ]
     },
     "execution_count": 35,
     "metadata": {},
     "output_type": "execute_result"
    }
   ],
   "source": [
    "# contando os documentos de uma coleção\n",
    "col.estimated_document_count()"
   ]
  },
  {
   "cell_type": "code",
   "execution_count": 36,
   "id": "4fb4e8c8",
   "metadata": {},
   "outputs": [],
   "source": [
    "redoc = col.find_one()"
   ]
  },
  {
   "cell_type": "code",
   "execution_count": 37,
   "id": "9a24e34e",
   "metadata": {},
   "outputs": [
    {
     "data": {
      "text/plain": [
       "{'_id': ObjectId('610ef90106df98d09f4a52b4'),\n",
       " 'nome': 'seu nome',\n",
       " 'idade': 'sua idade',\n",
       " 'foo': 'bar'}"
      ]
     },
     "execution_count": 37,
     "metadata": {},
     "output_type": "execute_result"
    }
   ],
   "source": [
    "redoc"
   ]
  },
  {
   "cell_type": "code",
   "execution_count": null,
   "id": "16ffa32a",
   "metadata": {},
   "outputs": [],
   "source": []
  }
 ],
 "metadata": {
  "kernelspec": {
   "display_name": "Python 3",
   "language": "python",
   "name": "python3"
  },
  "language_info": {
   "codemirror_mode": {
    "name": "ipython",
    "version": 3
   },
   "file_extension": ".py",
   "mimetype": "text/x-python",
   "name": "python",
   "nbconvert_exporter": "python",
   "pygments_lexer": "ipython3",
   "version": "3.8.10"
  }
 },
 "nbformat": 4,
 "nbformat_minor": 5
}
